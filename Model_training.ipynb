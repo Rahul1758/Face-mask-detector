{
 "cells": [
  {
   "cell_type": "code",
   "execution_count": 22,
   "id": "abroad-guest",
   "metadata": {},
   "outputs": [],
   "source": [
    "from tensorflow.keras.layers import Dense, Flatten, AveragePooling2D, Dropout\n",
    "from tensorflow.keras.models import Model\n",
    "from tensorflow.keras.applications.resnet_v2 import ResNet50V2\n",
    "from tensorflow.keras.applications.resnet_v2 import preprocess_input\n",
    "from tensorflow.keras.preprocessing.image import ImageDataGenerator\n",
    "from tensorflow.keras.models import Sequential\n",
    "from tensorflow.keras.preprocessing.image import img_to_array\n",
    "from tensorflow.keras.preprocessing.image import load_img\n",
    "from tensorflow.keras.utils import to_categorical\n",
    "from sklearn.preprocessing import LabelBinarizer\n",
    "from sklearn.model_selection import train_test_split\n",
    "import numpy as np\n",
    "from glob import glob\n",
    "from imutils import paths\n",
    "import os\n",
    "import matplotlib.pyplot as plt"
   ]
  },
  {
   "cell_type": "code",
   "execution_count": 2,
   "id": "focused-survivor",
   "metadata": {},
   "outputs": [],
   "source": [
    "image_paths=list(paths.list_images(r'C:\\Users\\shruti and rahul\\Desktop\\Python\\Python course\\Projects\\Realtime Object detection\\Real time detection\\Image dataset'))\n",
    "data=[]\n",
    "labels=[]\n",
    "\n",
    "for i in image_paths:\n",
    "    label=i.split(os.path.sep)[-2]\n",
    "    image=load_img(i,target_size=(224,224))\n",
    "    image=img_to_array(image)\n",
    "    image=preprocess_input(image)\n",
    "    data.append(image)\n",
    "    labels.append(label)\n",
    "    \n",
    "data=np.array(data, dtype='float32')\n",
    "labels=np.array(labels)"
   ]
  },
  {
   "cell_type": "code",
   "execution_count": 23,
   "id": "existing-adams",
   "metadata": {},
   "outputs": [],
   "source": [
    "resnet=ResNet50V2(weights='imagenet',include_top=False,input_shape=(224,224,3))\n",
    "\n",
    "for layer in resnet.layers:\n",
    "    layer.trainable=False\n",
    "    \n",
    "x=AveragePooling2D(pool_size=(7,7))(resnet.output)\n",
    "x=Flatten()(x)\n",
    "x=Dense(128, activation='relu')(x)\n",
    "x=Dropout(0.5)(x)\n",
    "predictions=Dense(2,activation='softmax')(x)\n",
    "\n",
    "model=Model(inputs=resnet.input, outputs=predictions)\n",
    "model.compile(loss='categorical_crossentropy',\n",
    "             optimizer='adam',\n",
    "             metrics=['accuracy'])"
   ]
  },
  {
   "cell_type": "code",
   "execution_count": 4,
   "id": "diagnostic-corporation",
   "metadata": {},
   "outputs": [],
   "source": [
    "lb=LabelBinarizer()\n",
    "labels=lb.fit_transform(labels)\n",
    "labels=to_categorical(labels)"
   ]
  },
  {
   "cell_type": "code",
   "execution_count": 5,
   "id": "defined-pathology",
   "metadata": {},
   "outputs": [],
   "source": [
    "trainX,testX,trainY,testY=train_test_split(data,labels,test_size=0.2, stratify=labels, random_state=42)"
   ]
  },
  {
   "cell_type": "code",
   "execution_count": 6,
   "id": "aggregate-sally",
   "metadata": {},
   "outputs": [],
   "source": [
    "aug = ImageDataGenerator(rotation_range=20,\n",
    "                          zoom_range=0.15,\n",
    "                          shear_range=0.15,\n",
    "                          horizontal_flip=True,\n",
    "                          fill_mode=\"nearest\")\n"
   ]
  },
  {
   "cell_type": "code",
   "execution_count": 24,
   "id": "employed-welcome",
   "metadata": {
    "scrolled": true
   },
   "outputs": [
    {
     "name": "stdout",
     "output_type": "stream",
     "text": [
      "Training the model....\n",
      "Epoch 1/20\n",
      "7/7 [==============================] - 28s 4s/step - loss: 0.8057 - accuracy: 0.6238 - val_loss: 0.2618 - val_accuracy: 0.8833\n",
      "Epoch 2/20\n",
      "7/7 [==============================] - 24s 3s/step - loss: 0.2510 - accuracy: 0.8873 - val_loss: 0.2619 - val_accuracy: 0.9167\n",
      "Epoch 3/20\n",
      "7/7 [==============================] - 23s 3s/step - loss: 0.2603 - accuracy: 0.9103 - val_loss: 0.2504 - val_accuracy: 0.9167\n",
      "Epoch 4/20\n",
      "7/7 [==============================] - 24s 3s/step - loss: 0.1756 - accuracy: 0.9496 - val_loss: 0.2263 - val_accuracy: 0.9333\n",
      "Epoch 5/20\n",
      "7/7 [==============================] - 24s 3s/step - loss: 0.1040 - accuracy: 0.9620 - val_loss: 0.2853 - val_accuracy: 0.9000\n",
      "Epoch 6/20\n",
      "7/7 [==============================] - 24s 3s/step - loss: 0.1149 - accuracy: 0.9238 - val_loss: 0.2182 - val_accuracy: 0.9500\n",
      "Epoch 7/20\n",
      "7/7 [==============================] - 24s 4s/step - loss: 0.1228 - accuracy: 0.9480 - val_loss: 0.2142 - val_accuracy: 0.9167\n",
      "Epoch 8/20\n",
      "7/7 [==============================] - 24s 3s/step - loss: 0.0635 - accuracy: 0.9855 - val_loss: 0.2315 - val_accuracy: 0.9000\n",
      "Epoch 9/20\n",
      "7/7 [==============================] - 24s 3s/step - loss: 0.0910 - accuracy: 0.9702 - val_loss: 0.2218 - val_accuracy: 0.9333\n",
      "Epoch 10/20\n",
      "7/7 [==============================] - 24s 3s/step - loss: 0.1071 - accuracy: 0.9653 - val_loss: 0.2421 - val_accuracy: 0.9000\n",
      "Epoch 11/20\n",
      "7/7 [==============================] - 24s 3s/step - loss: 0.1111 - accuracy: 0.9605 - val_loss: 0.1730 - val_accuracy: 0.9167\n",
      "Epoch 12/20\n",
      "7/7 [==============================] - 25s 3s/step - loss: 0.0796 - accuracy: 0.9697 - val_loss: 0.1795 - val_accuracy: 0.9333\n",
      "Epoch 13/20\n",
      "7/7 [==============================] - 24s 3s/step - loss: 0.0595 - accuracy: 0.9868 - val_loss: 0.1862 - val_accuracy: 0.9167\n",
      "Epoch 14/20\n",
      "7/7 [==============================] - 24s 3s/step - loss: 0.0600 - accuracy: 0.9824 - val_loss: 0.1841 - val_accuracy: 0.9500\n",
      "Epoch 15/20\n",
      "7/7 [==============================] - 24s 3s/step - loss: 0.0634 - accuracy: 0.9772 - val_loss: 0.1921 - val_accuracy: 0.9333\n",
      "Epoch 16/20\n",
      "7/7 [==============================] - 23s 4s/step - loss: 0.0569 - accuracy: 0.9810 - val_loss: 0.1963 - val_accuracy: 0.9333\n",
      "Epoch 17/20\n",
      "7/7 [==============================] - 24s 3s/step - loss: 0.0860 - accuracy: 0.9680 - val_loss: 0.2345 - val_accuracy: 0.8833\n",
      "Epoch 18/20\n",
      "7/7 [==============================] - 26s 4s/step - loss: 0.0494 - accuracy: 0.9896 - val_loss: 0.2180 - val_accuracy: 0.9000\n",
      "Epoch 19/20\n",
      "7/7 [==============================] - 26s 4s/step - loss: 0.0303 - accuracy: 0.9965 - val_loss: 0.2150 - val_accuracy: 0.9500\n",
      "Epoch 20/20\n",
      "7/7 [==============================] - 24s 3s/step - loss: 0.0234 - accuracy: 0.9944 - val_loss: 0.2472 - val_accuracy: 0.9000\n"
     ]
    }
   ],
   "source": [
    "Epochs=20\n",
    "Batch_size=32\n",
    "\n",
    "print('Training the model....')\n",
    "\n",
    "M=model.fit(aug.flow(trainX,trainY),\n",
    "           steps_per_epoch=len(trainX)//Batch_size,\n",
    "           validation_data=(testX,testY),\n",
    "           validation_steps=len(testX)//Batch_size,\n",
    "           epochs=Epochs)\n"
   ]
  },
  {
   "cell_type": "code",
   "execution_count": 25,
   "id": "tired-antibody",
   "metadata": {},
   "outputs": [
    {
     "data": {
      "image/png": "[encoded data removed]",
      "text/plain": [
       "<Figure size 432x288 with 1 Axes>"
      ]
     },
     "metadata": {},
     "output_type": "display_data"
    }
   ],
   "source": [
    "N=Epochs\n",
    "plt.style.use('ggplot')\n",
    "plt.figure()\n",
    "plt.plot(np.arange(0,N),M.history['loss'],label='train_loss')\n",
    "plt.plot(np.arange(0,N),M.history['val_loss'],label='test_loss')\n",
    "plt.plot(np.arange(0,N),M.history['accuracy'],label='train_acc')\n",
    "plt.plot(np.arange(0,N),M.history['val_accuracy'],label='test_acc')\n",
    "plt.title('Training Loss and Accuracy')\n",
    "plt.xlabel('Number of Epochs')\n",
    "plt.ylabel('Loss/Accuracy')\n",
    "plt.legend(loc='upper right')\n",
    "plt.savefig('Test2_with_regularization')"
   ]
  },
  {
   "cell_type": "code",
   "execution_count": 26,
   "id": "exposed-celtic",
   "metadata": {},
   "outputs": [],
   "source": [
    "model.save('mask_detector.h5')"
   ]
  }
 ],
 "metadata": {
  "kernelspec": {
   "display_name": "Python 3",
   "language": "python",
   "name": "python3"
  },
  "language_info": {
   "codemirror_mode": {
    "name": "ipython",
    "version": 3
   },
   "file_extension": ".py",
   "mimetype": "text/x-python",
   "name": "python",
   "nbconvert_exporter": "python",
   "pygments_lexer": "ipython3",
   "version": "3.7.6"
  }
 },
 "nbformat": 4,
 "nbformat_minor": 5
}
