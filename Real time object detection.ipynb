{
 "cells": [
  {
   "cell_type": "code",
   "execution_count": 1,
   "id": "civic-smoke",
   "metadata": {},
   "outputs": [],
   "source": [
    "import cv2\n",
    "from tensorflow.keras.preprocessing.image import img_to_array\n",
    "from tensorflow.keras.models import load_model\n",
    "from tensorflow.keras.applications.resnet_v2 import preprocess_input\n",
    "import numpy as np"
   ]
  },
  {
   "cell_type": "code",
   "execution_count": 3,
   "id": "surgical-times",
   "metadata": {},
   "outputs": [],
   "source": [
    "filepath=r'C:\\Users\\shruti and rahul\\Desktop\\Python\\Python course\\Projects\\Realtime Object detection\\Real time detection\\haarcascade_frontalface_alt2.xml'\n",
    "model=load_model('mask_detector.h5')\n",
    "detector=cv2.CascadeClassifier(filepath)"
   ]
  },
  {
   "cell_type": "code",
   "execution_count": 4,
   "id": "domestic-latin",
   "metadata": {},
   "outputs": [],
   "source": [
    "label_dict={0:'Mask',1:'No Mask'}\n",
    "color_dict={0:(0,255,0),1:(0,0,255)}"
   ]
  },
  {
   "cell_type": "code",
   "execution_count": 8,
   "id": "bearing-yield",
   "metadata": {},
   "outputs": [],
   "source": [
    "video_capture=cv2.VideoCapture(0)\n",
    "\n",
    "while True:\n",
    "    ret, frame=video_capture.read()\n",
    "    gray=cv2.cvtColor(frame,cv2.COLOR_BGR2GRAY)\n",
    "    faces=detector.detectMultiScale(gray,1.1,5)\n",
    "    \n",
    "    for (x,y,w,h) in faces:\n",
    "        face_extracted=frame[y:y+h,x:x+w]\n",
    "        face_extracted=cv2.resize(face_extracted,(224,224))\n",
    "        face_extracted=img_to_array(face_extracted)\n",
    "        face_extracted=np.expand_dims(face_extracted,axis=0)\n",
    "        face_extracted=preprocess_input(face_extracted)\n",
    "        preds=model.predict(face_extracted)\n",
    "        \n",
    "        label=np.argmax(preds,axis=1)[0]\n",
    "\n",
    "        cv2.rectangle(frame,(x,y),(x+w,y+h),color_dict[label],2)\n",
    "        cv2.rectangle(frame,(x,y-40),(x+w,y),color_dict[label],-1)\n",
    "        cv2.putText(frame, label_dict[label], (x,y-10), cv2.FONT_HERSHEY_SIMPLEX, 0.8, (255,255,255), 2)\n",
    "        \n",
    "        \n",
    "    cv2.imshow('Video',frame)\n",
    "    if cv2.waitKey(1) & 0xFF == ord('q'):\n",
    "        break\n",
    "\n",
    "video_capture.release()\n",
    "cv2.destroyAllWindows()"
   ]
  },
  {
   "cell_type": "code",
   "execution_count": null,
   "id": "animal-pepper",
   "metadata": {},
   "outputs": [],
   "source": []
  }
 ],
 "metadata": {
  "kernelspec": {
   "display_name": "Python 3",
   "language": "python",
   "name": "python3"
  },
  "language_info": {
   "codemirror_mode": {
    "name": "ipython",
    "version": 3
   },
   "file_extension": ".py",
   "mimetype": "text/x-python",
   "name": "python",
   "nbconvert_exporter": "python",
   "pygments_lexer": "ipython3",
   "version": "3.7.6"
  }
 },
 "nbformat": 4,
 "nbformat_minor": 5
}
